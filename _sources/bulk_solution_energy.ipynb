{
 "cells": [
  {
   "cell_type": "code",
   "execution_count": null,
   "id": "f8582f46",
   "metadata": {},
   "outputs": [
    {
     "name": "stdout",
     "output_type": "stream",
     "text": [
      "The autoreload extension is already loaded. To reload it, use:\n",
      "  %reload_ext autoreload\n"
     ]
    }
   ],
   "source": [
    "from pyiron_workflow_lammps.engine import LammpsEngine\n",
    "from pyiron_workflow_atomistics.dataclass_storage import CalcInputMinimize\n",
    "from pyiron_workflow.workflow import Workflow\n",
    "from pyiron_workflow_atomistics.bulk import optimise_cubic_lattice_parameter\n",
    "from pyiron_workflow_atomistics.structure_manipulator.tools import create_supercell_with_min_dimensions\n",
    "import pyiron_workflow as pwf\n",
    "import os\n",
    "from ase.build import bulk\n",
    "\n",
    "%load_ext autoreload\n",
    "%autoreload 2"
   ]
  },
  {
   "cell_type": "code",
   "execution_count": 5,
   "id": "e0d6d31e",
   "metadata": {},
   "outputs": [
    {
     "name": "stderr",
     "output_type": "stream",
     "text": [
      "2025-10-23 16:21:59,483 - pyiron_log - WARNING - Directory 'solution_energy/strain_000' already exists. Existing files may be overwritten.\n"
     ]
    },
    {
     "name": "stdout",
     "output_type": "stream",
     "text": [
      "current mode  minimize\n",
      "current mode  minimize\n",
      "current mode  minimize\n"
     ]
    },
    {
     "data": {
      "text/plain": [
       "{'opt_cubic_cell__a0': np.float64(2.8554036006730863),\n",
       " 'opt_cubic_cell__B': np.float64(178.2689296133779),\n",
       " 'opt_cubic_cell__equil_energy_per_atom': np.float64(-4.012989682254272),\n",
       " 'opt_cubic_cell__equil_volume_per_atom': np.float64(11.640523523888817),\n",
       " 'opt_cubic_cell__volumes': [np.float64(21.287097162601995),\n",
       "  np.float64(21.81268105404494),\n",
       "  np.float64(22.346845717919777),\n",
       "  np.float64(22.889660634165235),\n",
       "  np.float64(23.441195282719992),\n",
       "  np.float64(24.001519143522813)],\n",
       " 'opt_cubic_cell__structures': [Atoms(symbols='Fe2', pbc=True, cell=[[2.77144, 1.6970175625144705e-16, 1.6970175625144705e-16], [0.0, 2.77144, 1.6970175625144705e-16], [0.0, 0.0, 2.77144]]),\n",
       "  Atoms(symbols='Fe2', pbc=True, cell=[[2.794064, 1.7108707671064253e-16, 1.7108707671064253e-16], [0.0, 2.794064, 1.7108707671064253e-16], [0.0, 0.0, 2.794064]]),\n",
       "  Atoms(symbols='Fe2', pbc=True, cell=[[2.816688, 1.72472397169838e-16, 1.72472397169838e-16], [0.0, 2.816688, 1.72472397169838e-16], [0.0, 0.0, 2.816688]]),\n",
       "  Atoms(symbols='Fe2', pbc=True, cell=[[2.839312, 1.7385771762903346e-16, 1.7385771762903346e-16], [0.0, 2.839312, 1.7385771762903348e-16], [0.0, 0.0, 2.839312]]),\n",
       "  Atoms(symbols='Fe2', pbc=True, cell=[[2.861936, 1.7524303808822898e-16, 1.7524303808822898e-16], [0.0, 2.861936, 1.7524303808822898e-16], [0.0, 0.0, 2.861936]]),\n",
       "  Atoms(symbols='Fe2', pbc=True, cell=[[2.88456, 1.7662835854742446e-16, 1.7662835854742446e-16], [0.0, 2.88456, 1.7662835854742449e-16], [0.0, 0.0, 2.88456]])],\n",
       " 'opt_cubic_cell__energies': [np.float64(-7.92101012987152),\n",
       "  np.float64(-7.9705262547624),\n",
       "  np.float64(-8.00413982260715),\n",
       "  np.float64(-8.02227265819524),\n",
       "  np.float64(-8.02534193155623),\n",
       "  np.float64(-8.01401480951098)],\n",
       " 'soln_energy__solution_energy': np.float64(-0.3690682452599958)}"
      ]
     },
     "execution_count": 5,
     "metadata": {},
     "output_type": "execute_result"
    }
   ],
   "source": [
    "Fe_bulk = bulk(\"Fe\", a=2.828, cubic=True)\n",
    "\n",
    "inp = CalcInputMinimize()\n",
    "inp.relax_cell = False\n",
    "Engine_eam = LammpsEngine(EngineInput = inp)\n",
    "Engine_eam.working_directory = \"solution_energy\"\n",
    "Engine_eam.lammps_log_filepath = \"minimize.log\"\n",
    "# Adjust this line to match your LAMMPS installation\n",
    "# If you are using conda-lammps or a LAMMPS binary on your system, you can use directly:\n",
    "Engine_eam.command = \"lmp -in in.lmp -log minimize.log\"\n",
    "Engine_eam.input_script_pair_style = \"eam/fs\"\n",
    "Engine_eam.path_to_model = os.getcwd() + \"/Al-Fe.eam.fs\"\n",
    "\n",
    "wf = Workflow(Engine_eam.working_directory, delete_existing_savefiles=True)\n",
    "\n",
    "\n",
    "\n",
    "wf.opt_cubic_cell = optimise_cubic_lattice_parameter(\n",
    "    structure=Fe_bulk,\n",
    "    name=\"Fe\",\n",
    "    crystalstructure=\"bcc\",\n",
    "    calculation_engine=Engine_eam,\n",
    "    parent_working_directory=\"opt_cubic_cell\",\n",
    "    rattle=0.1,\n",
    "    strain_range=(-0.02, 0.02),\n",
    "    num_points=6,\n",
    ")\n",
    "wf.supercell = create_supercell_with_min_dimensions(\n",
    "    base_structure=wf.opt_cubic_cell.outputs.equil_struct,\n",
    "    min_dimensions=[12, 12, 12],\n",
    ")\n",
    "from pyiron_workflow_atomistics.structure_manipulator.tools import substitutional_swap_one_site\n",
    "wf.supercell_with_1sol = substitutional_swap_one_site(\n",
    "    base_structure=wf.supercell,\n",
    "    defect_site=0,\n",
    "    new_symbol=\"Al\",\n",
    ")\n",
    "from pyiron_workflow_atomistics.calculator import calculate_structure_node\n",
    "\n",
    "Engine_eam = LammpsEngine(EngineInput = inp)\n",
    "Engine_eam.working_directory = \"solution_energy/solution_energy_bulk\"\n",
    "Engine_eam.lammps_log_filepath = \"minimize.log\"\n",
    "# Adjust this line to match your LAMMPS installation\n",
    "# If you are using conda-lammps or a LAMMPS binary on your system, you can use directly:\n",
    "Engine_eam.command = \"lmp -in in.lmp -log minimize.log\"\n",
    "Engine_eam.input_script_pair_style = \"eam/fs\"\n",
    "Engine_eam.path_to_model = os.getcwd() + \"/Al-Fe.eam.fs\"\n",
    "\n",
    "wf.calc_supercell_energy = calculate_structure_node(\n",
    "    structure=wf.supercell,\n",
    "    calculation_engine=Engine_eam,\n",
    ")\n",
    "\n",
    "Engine_eam = LammpsEngine(EngineInput = inp)\n",
    "Engine_eam.working_directory = \"solution_energy/solution_energy_solute\"\n",
    "Engine_eam.lammps_log_filepath = \"minimize.log\"\n",
    "Engine_eam.command = \"lmp -in in.lmp -log minimize.log\"\n",
    "Engine_eam.input_script_pair_style = \"eam/fs\"\n",
    "Engine_eam.path_to_model = os.getcwd() + \"/Al-Fe.eam.fs\"\n",
    "\n",
    "wf.calc_supercell_with_1sol_energy = calculate_structure_node(\n",
    "    structure=wf.supercell_with_1sol,\n",
    "    calculation_engine=Engine_eam,\n",
    ")\n",
    "@pwf.as_function_node(\"solution_energy\")\n",
    "def calculate_soln_energy(bulk_structure_energy, soln_structure_energy):\n",
    "    return soln_structure_energy - bulk_structure_energy\n",
    "wf.soln_energy = calculate_soln_energy(\n",
    "    bulk_structure_energy=wf.calc_supercell_energy.outputs.calc_output.final_energy,\n",
    "    soln_structure_energy=wf.calc_supercell_with_1sol_energy.outputs.calc_output.final_energy,\n",
    ")\n",
    "wf.run()"
   ]
  },
  {
   "cell_type": "code",
   "execution_count": 6,
   "id": "06bf459a",
   "metadata": {},
   "outputs": [
    {
     "name": "stdout",
     "output_type": "stream",
     "text": [
      "The solution energy of Al in Fe BCC is -0.369 eV\n",
      "The total energy of the bulk (128 Fe) structure is -1003.246 eV\n",
      "The total energy of the solute (127 Fe + 1 Al) structure is -1003.615 eV\n"
     ]
    }
   ],
   "source": [
    "print(f\"The solution energy of Al in Fe BCC is {wf.soln_energy.outputs.solution_energy.value:.3f} eV\")\n",
    "print(f\"The total energy of the bulk (128 Fe) structure is {wf.calc_supercell_energy.outputs.calc_output.value.final_energy:.3f} eV\")\n",
    "print(f\"The total energy of the solute (127 Fe + 1 Al) structure is {wf.calc_supercell_with_1sol_energy.outputs.calc_output.value.final_energy:.3f} eV\")"
   ]
  }
 ],
 "metadata": {
  "kernelspec": {
   "display_name": "test_pyiwf_gbproperties",
   "language": "python",
   "name": "python3"
  },
  "language_info": {
   "codemirror_mode": {
    "name": "ipython",
    "version": 3
   },
   "file_extension": ".py",
   "mimetype": "text/x-python",
   "name": "python",
   "nbconvert_exporter": "python",
   "pygments_lexer": "ipython3",
   "version": "3.12.12"
  }
 },
 "nbformat": 4,
 "nbformat_minor": 5
}
